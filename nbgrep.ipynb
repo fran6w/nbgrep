{
 "cells": [
  {
   "cell_type": "markdown",
   "metadata": {},
   "source": [
    "# Examples with nbgrep\n",
    "\n",
    "Those examples required the `./PythonDataScienceHandbook/notebooks/` folder from https://github.com/jakevdp/PythonDataScienceHandbook"
   ]
  },
  {
   "cell_type": "code",
   "execution_count": 1,
   "metadata": {},
   "outputs": [],
   "source": [
    "# import nbgrep\n",
    "from nbgrep import Nb"
   ]
  },
  {
   "cell_type": "code",
   "execution_count": 2,
   "metadata": {},
   "outputs": [
    {
     "data": {
      "text/html": [
       "<div>\n",
       "<style scoped>\n",
       "    .dataframe tbody tr th:only-of-type {\n",
       "        vertical-align: middle;\n",
       "    }\n",
       "\n",
       "    .dataframe tbody tr th {\n",
       "        vertical-align: top;\n",
       "    }\n",
       "\n",
       "    .dataframe thead th {\n",
       "        text-align: right;\n",
       "    }\n",
       "</style>\n",
       "<table border=\"1\" class=\"dataframe\">\n",
       "  <thead>\n",
       "    <tr style=\"text-align: right;\">\n",
       "      <th></th>\n",
       "      <th>path_</th>\n",
       "      <th>cellno_</th>\n",
       "      <th>lineno_</th>\n",
       "      <th>metadata</th>\n",
       "      <th>source</th>\n",
       "    </tr>\n",
       "  </thead>\n",
       "  <tbody>\n",
       "    <tr>\n",
       "      <th>0</th>\n",
       "      <td>./PythonDataScienceHandbook/notebooks/00.00-Pr...</td>\n",
       "      <td>0</td>\n",
       "      <td>3</td>\n",
       "      <td>{}</td>\n",
       "      <td>*This notebook contains an excerpt from the [P...</td>\n",
       "    </tr>\n",
       "    <tr>\n",
       "      <th>1</th>\n",
       "      <td>./PythonDataScienceHandbook/notebooks/00.00-Pr...</td>\n",
       "      <td>1</td>\n",
       "      <td>1</td>\n",
       "      <td>{}</td>\n",
       "      <td>| [Contents](Index.ipynb) | [IPython: Beyond N...</td>\n",
       "    </tr>\n",
       "    <tr>\n",
       "      <th>1</th>\n",
       "      <td>./PythonDataScienceHandbook/notebooks/00.00-Pr...</td>\n",
       "      <td>1</td>\n",
       "      <td>3</td>\n",
       "      <td>{}</td>\n",
       "      <td>&lt;a href=\"https://colab.research.google.com/git...</td>\n",
       "    </tr>\n",
       "    <tr>\n",
       "      <th>3</th>\n",
       "      <td>./PythonDataScienceHandbook/notebooks/00.00-Pr...</td>\n",
       "      <td>3</td>\n",
       "      <td>2</td>\n",
       "      <td>{}</td>\n",
       "      <td>This is a book about doing data science with P...</td>\n",
       "    </tr>\n",
       "    <tr>\n",
       "      <th>6</th>\n",
       "      <td>./PythonDataScienceHandbook/notebooks/00.00-Pr...</td>\n",
       "      <td>6</td>\n",
       "      <td>2</td>\n",
       "      <td>{}</td>\n",
       "      <td>In my teaching both at the University of Washi...</td>\n",
       "    </tr>\n",
       "  </tbody>\n",
       "</table>\n",
       "</div>"
      ],
      "text/plain": [
       "                                               path_  cellno_  lineno_  \\\n",
       "0  ./PythonDataScienceHandbook/notebooks/00.00-Pr...        0        3   \n",
       "1  ./PythonDataScienceHandbook/notebooks/00.00-Pr...        1        1   \n",
       "1  ./PythonDataScienceHandbook/notebooks/00.00-Pr...        1        3   \n",
       "3  ./PythonDataScienceHandbook/notebooks/00.00-Pr...        3        2   \n",
       "6  ./PythonDataScienceHandbook/notebooks/00.00-Pr...        6        2   \n",
       "\n",
       "  metadata                                             source  \n",
       "0       {}  *This notebook contains an excerpt from the [P...  \n",
       "1       {}  | [Contents](Index.ipynb) | [IPython: Beyond N...  \n",
       "1       {}  <a href=\"https://colab.research.google.com/git...  \n",
       "3       {}  This is a book about doing data science with P...  \n",
       "6       {}  In my teaching both at the University of Washi...  "
      ]
     },
     "execution_count": 2,
     "metadata": {},
     "output_type": "execute_result"
    }
   ],
   "source": [
    "# grep \"Python\" within markdown in a file\n",
    "nb = Nb(\"./PythonDataScienceHandbook/notebooks/00.00-Preface.ipynb\", cell_type=\"markdown\")\n",
    "results = nb.grep(\"Python\")\n",
    "results.head()"
   ]
  },
  {
   "cell_type": "code",
   "execution_count": 3,
   "metadata": {},
   "outputs": [
    {
     "data": {
      "text/plain": [
       "(613, 6)"
      ]
     },
     "execution_count": 3,
     "metadata": {},
     "output_type": "execute_result"
    }
   ],
   "source": [
    "# grep \"Python\" within markdown in all files\n",
    "nb = Nb(\"./PythonDataScienceHandbook/**/*.ipynb\", cell_type=\"markdown\", recursive=True)\n",
    "results = nb.grep(\"Python\")\n",
    "results.shape"
   ]
  },
  {
   "cell_type": "code",
   "execution_count": 4,
   "metadata": {},
   "outputs": [
    {
     "data": {
      "text/plain": [
       "(694, 6)"
      ]
     },
     "execution_count": 4,
     "metadata": {},
     "output_type": "execute_result"
    }
   ],
   "source": [
    "# grep uncased \"python\" within markdown in all files\n",
    "results = nb.grep(\"python\", case=False)\n",
    "results.shape"
   ]
  },
  {
   "cell_type": "code",
   "execution_count": 5,
   "metadata": {},
   "outputs": [
    {
     "data": {
      "text/html": [
       "<div>\n",
       "<style scoped>\n",
       "    .dataframe tbody tr th:only-of-type {\n",
       "        vertical-align: middle;\n",
       "    }\n",
       "\n",
       "    .dataframe tbody tr th {\n",
       "        vertical-align: top;\n",
       "    }\n",
       "\n",
       "    .dataframe thead th {\n",
       "        text-align: right;\n",
       "    }\n",
       "</style>\n",
       "<table border=\"1\" class=\"dataframe\">\n",
       "  <thead>\n",
       "    <tr style=\"text-align: right;\">\n",
       "      <th></th>\n",
       "      <th>path_</th>\n",
       "      <th>cellno_</th>\n",
       "      <th>lineno_</th>\n",
       "      <th>metadata</th>\n",
       "      <th>source</th>\n",
       "      <th>execution_count</th>\n",
       "    </tr>\n",
       "  </thead>\n",
       "  <tbody>\n",
       "    <tr>\n",
       "      <th>0</th>\n",
       "      <td>./PythonDataScienceHandbook/notebooks/03.03-Op...</td>\n",
       "      <td>0</td>\n",
       "      <td>0</td>\n",
       "      <td>{'collapsed': True}</td>\n",
       "      <td>import pandas as pd</td>\n",
       "      <td>1.0</td>\n",
       "    </tr>\n",
       "    <tr>\n",
       "      <th>0</th>\n",
       "      <td>./PythonDataScienceHandbook/notebooks/03.03-Op...</td>\n",
       "      <td>0</td>\n",
       "      <td>1</td>\n",
       "      <td>{'collapsed': True}</td>\n",
       "      <td>import numpy as np</td>\n",
       "      <td>1.0</td>\n",
       "    </tr>\n",
       "    <tr>\n",
       "      <th>20</th>\n",
       "      <td>./PythonDataScienceHandbook/notebooks/02.06-Bo...</td>\n",
       "      <td>20</td>\n",
       "      <td>0</td>\n",
       "      <td>{'collapsed': False}</td>\n",
       "      <td>import numpy as np</td>\n",
       "      <td>1.0</td>\n",
       "    </tr>\n",
       "    <tr>\n",
       "      <th>20</th>\n",
       "      <td>./PythonDataScienceHandbook/notebooks/02.06-Bo...</td>\n",
       "      <td>20</td>\n",
       "      <td>1</td>\n",
       "      <td>{'collapsed': False}</td>\n",
       "      <td>import pandas as pd</td>\n",
       "      <td>1.0</td>\n",
       "    </tr>\n",
       "    <tr>\n",
       "      <th>21</th>\n",
       "      <td>./PythonDataScienceHandbook/notebooks/02.06-Bo...</td>\n",
       "      <td>21</td>\n",
       "      <td>1</td>\n",
       "      <td>{'collapsed': False}</td>\n",
       "      <td>import matplotlib.pyplot as plt</td>\n",
       "      <td>2.0</td>\n",
       "    </tr>\n",
       "  </tbody>\n",
       "</table>\n",
       "</div>"
      ],
      "text/plain": [
       "                                                path_  cellno_  lineno_  \\\n",
       "0   ./PythonDataScienceHandbook/notebooks/03.03-Op...        0        0   \n",
       "0   ./PythonDataScienceHandbook/notebooks/03.03-Op...        0        1   \n",
       "20  ./PythonDataScienceHandbook/notebooks/02.06-Bo...       20        0   \n",
       "20  ./PythonDataScienceHandbook/notebooks/02.06-Bo...       20        1   \n",
       "21  ./PythonDataScienceHandbook/notebooks/02.06-Bo...       21        1   \n",
       "\n",
       "                metadata                           source  execution_count  \n",
       "0    {'collapsed': True}              import pandas as pd              1.0  \n",
       "0    {'collapsed': True}               import numpy as np              1.0  \n",
       "20  {'collapsed': False}               import numpy as np              1.0  \n",
       "20  {'collapsed': False}              import pandas as pd              1.0  \n",
       "21  {'collapsed': False}  import matplotlib.pyplot as plt              2.0  "
      ]
     },
     "execution_count": 5,
     "metadata": {},
     "output_type": "execute_result"
    }
   ],
   "source": [
    "# grep lines of code with import statement\n",
    "nb = Nb(\"./PythonDataScienceHandbook/**/*.ipynb\", recursive=True)\n",
    "results = nb.grep(\"^(?:import|from)\")\n",
    "results.head()"
   ]
  },
  {
   "cell_type": "code",
   "execution_count": 6,
   "metadata": {},
   "outputs": [
    {
     "data": {
      "text/html": [
       "<div>\n",
       "<style scoped>\n",
       "    .dataframe tbody tr th:only-of-type {\n",
       "        vertical-align: middle;\n",
       "    }\n",
       "\n",
       "    .dataframe tbody tr th {\n",
       "        vertical-align: top;\n",
       "    }\n",
       "\n",
       "    .dataframe thead th {\n",
       "        text-align: right;\n",
       "    }\n",
       "</style>\n",
       "<table border=\"1\" class=\"dataframe\">\n",
       "  <thead>\n",
       "    <tr style=\"text-align: right;\">\n",
       "      <th></th>\n",
       "      <th>path_</th>\n",
       "      <th>cellno_</th>\n",
       "      <th>lineno_</th>\n",
       "      <th>module</th>\n",
       "      <th>function</th>\n",
       "    </tr>\n",
       "  </thead>\n",
       "  <tbody>\n",
       "    <tr>\n",
       "      <th>61</th>\n",
       "      <td>./PythonDataScienceHandbook/notebooks/05.14-Im...</td>\n",
       "      <td>61</td>\n",
       "      <td>0</td>\n",
       "      <td>skimage</td>\n",
       "      <td>data, color, feature</td>\n",
       "    </tr>\n",
       "    <tr>\n",
       "      <th>62</th>\n",
       "      <td>./PythonDataScienceHandbook/notebooks/05.14-Im...</td>\n",
       "      <td>62</td>\n",
       "      <td>0</td>\n",
       "      <td>sklearn.datasets</td>\n",
       "      <td>fetch_lfw_people</td>\n",
       "    </tr>\n",
       "    <tr>\n",
       "      <th>63</th>\n",
       "      <td>./PythonDataScienceHandbook/notebooks/05.14-Im...</td>\n",
       "      <td>63</td>\n",
       "      <td>0</td>\n",
       "      <td>skimage</td>\n",
       "      <td>data, transform</td>\n",
       "    </tr>\n",
       "    <tr>\n",
       "      <th>64</th>\n",
       "      <td>./PythonDataScienceHandbook/notebooks/05.14-Im...</td>\n",
       "      <td>64</td>\n",
       "      <td>0</td>\n",
       "      <td>sklearn.feature_extraction.image</td>\n",
       "      <td>PatchExtractor</td>\n",
       "    </tr>\n",
       "    <tr>\n",
       "      <th>66</th>\n",
       "      <td>./PythonDataScienceHandbook/notebooks/05.14-Im...</td>\n",
       "      <td>66</td>\n",
       "      <td>0</td>\n",
       "      <td>itertools</td>\n",
       "      <td>chain</td>\n",
       "    </tr>\n",
       "  </tbody>\n",
       "</table>\n",
       "</div>"
      ],
      "text/plain": [
       "                                                path_  cellno_  lineno_  \\\n",
       "61  ./PythonDataScienceHandbook/notebooks/05.14-Im...       61        0   \n",
       "62  ./PythonDataScienceHandbook/notebooks/05.14-Im...       62        0   \n",
       "63  ./PythonDataScienceHandbook/notebooks/05.14-Im...       63        0   \n",
       "64  ./PythonDataScienceHandbook/notebooks/05.14-Im...       64        0   \n",
       "66  ./PythonDataScienceHandbook/notebooks/05.14-Im...       66        0   \n",
       "\n",
       "                              module              function  \n",
       "61                           skimage  data, color, feature  \n",
       "62                  sklearn.datasets      fetch_lfw_people  \n",
       "63                           skimage       data, transform  \n",
       "64  sklearn.feature_extraction.image        PatchExtractor  \n",
       "66                         itertools                 chain  "
      ]
     },
     "execution_count": 6,
     "metadata": {},
     "output_type": "execute_result"
    }
   ],
   "source": [
    "# extract imported modules and functions in lines of code\n",
    "results = nb.grep(\"^from (?P<module>.*) import (?P<function>.*)\", extract=True).dropna()\n",
    "results.head()"
   ]
  },
  {
   "cell_type": "code",
   "execution_count": 7,
   "metadata": {},
   "outputs": [
    {
     "data": {
      "text/html": [
       "<div>\n",
       "<style scoped>\n",
       "    .dataframe tbody tr th:only-of-type {\n",
       "        vertical-align: middle;\n",
       "    }\n",
       "\n",
       "    .dataframe tbody tr th {\n",
       "        vertical-align: top;\n",
       "    }\n",
       "\n",
       "    .dataframe thead th {\n",
       "        text-align: right;\n",
       "    }\n",
       "</style>\n",
       "<table border=\"1\" class=\"dataframe\">\n",
       "  <thead>\n",
       "    <tr style=\"text-align: right;\">\n",
       "      <th></th>\n",
       "      <th>module</th>\n",
       "      <th>function</th>\n",
       "    </tr>\n",
       "  </thead>\n",
       "  <tbody>\n",
       "    <tr>\n",
       "      <th>61</th>\n",
       "      <td>skimage</td>\n",
       "      <td>data, color, feature</td>\n",
       "    </tr>\n",
       "    <tr>\n",
       "      <th>62</th>\n",
       "      <td>sklearn.datasets</td>\n",
       "      <td>fetch_lfw_people</td>\n",
       "    </tr>\n",
       "    <tr>\n",
       "      <th>63</th>\n",
       "      <td>skimage</td>\n",
       "      <td>data, transform</td>\n",
       "    </tr>\n",
       "    <tr>\n",
       "      <th>64</th>\n",
       "      <td>sklearn.feature_extraction.image</td>\n",
       "      <td>PatchExtractor</td>\n",
       "    </tr>\n",
       "    <tr>\n",
       "      <th>66</th>\n",
       "      <td>itertools</td>\n",
       "      <td>chain</td>\n",
       "    </tr>\n",
       "  </tbody>\n",
       "</table>\n",
       "</div>"
      ],
      "text/plain": [
       "                              module              function\n",
       "61                           skimage  data, color, feature\n",
       "62                  sklearn.datasets      fetch_lfw_people\n",
       "63                           skimage       data, transform\n",
       "64  sklearn.feature_extraction.image        PatchExtractor\n",
       "66                         itertools                 chain"
      ]
     },
     "execution_count": 7,
     "metadata": {},
     "output_type": "execute_result"
    }
   ],
   "source": [
    "# extract imported modules and functions in lines of code, using expand=False option from pandas.str.extract()\n",
    "result = nb.grep(\"^from (?P<module>.*) import (?P<function>.*)\", extract=True, expand=False).dropna()\n",
    "result.head()"
   ]
  }
 ],
 "metadata": {
  "kernelspec": {
   "display_name": "Python 3",
   "language": "python",
   "name": "python3"
  },
  "language_info": {
   "codemirror_mode": {
    "name": "ipython",
    "version": 3
   },
   "file_extension": ".py",
   "mimetype": "text/x-python",
   "name": "python",
   "nbconvert_exporter": "python",
   "pygments_lexer": "ipython3",
   "version": "3.8.5"
  }
 },
 "nbformat": 4,
 "nbformat_minor": 5
}
